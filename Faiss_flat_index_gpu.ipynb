{
  "metadata": {
    "kernelspec": {
      "display_name": "Python 3",
      "name": "python3"
    },
    "language_info": {
      "name": "python",
      "version": "3.10.14",
      "mimetype": "text/x-python",
      "codemirror_mode": {
        "name": "ipython",
        "version": 3
      },
      "pygments_lexer": "ipython3",
      "nbconvert_exporter": "python",
      "file_extension": ".py"
    },
    "kaggle": {
      "accelerator": "gpu",
      "dataSources": [],
      "dockerImageVersionId": 30787,
      "isInternetEnabled": true,
      "language": "python",
      "sourceType": "notebook",
      "isGpuEnabled": true
    },
    "colab": {
      "name": "Faiss_flat_index_gpu",
      "provenance": [],
      "gpuType": "T4",
      "include_colab_link": true
    },
    "accelerator": "GPU"
  },
  "nbformat_minor": 0,
  "nbformat": 4,
  "cells": [
    {
      "cell_type": "markdown",
      "metadata": {
        "id": "view-in-github",
        "colab_type": "text"
      },
      "source": [
        "<a href=\"https://colab.research.google.com/github/advik-7/NLP_projects/blob/main/Faiss_flat_index_gpu.ipynb\" target=\"_parent\"><img src=\"https://colab.research.google.com/assets/colab-badge.svg\" alt=\"Open In Colab\"/></a>"
      ]
    },
    {
      "cell_type": "code",
      "source": [
        "import shutil\n",
        "import urllib.request as request\n",
        "from contextlib import closing\n",
        "\n",
        "with closing(request.urlopen('ftp://ftp.irisa.fr/local/texmex/corpus/sift.tar.gz')) as r:\n",
        "    with open('sift.tar.gz', 'wb') as f:\n",
        "        shutil.copyfileobj(r, f)"
      ],
      "metadata": {
        "_uuid": "8f2839f25d086af736a60e9eeb907d3b93b6e0e5",
        "_cell_guid": "b1076dfc-b9ad-4769-8c92-a6c4dae69d19",
        "trusted": true,
        "execution": {
          "iopub.status.busy": "2024-11-13T20:55:23.179397Z",
          "iopub.execute_input": "2024-11-13T20:55:23.17977Z",
          "iopub.status.idle": "2024-11-13T20:55:57.0679Z",
          "shell.execute_reply.started": "2024-11-13T20:55:23.179733Z",
          "shell.execute_reply": "2024-11-13T20:55:57.067059Z"
        },
        "id": "K1HIcvkQXMBl"
      },
      "outputs": [],
      "execution_count": 1
    },
    {
      "cell_type": "code",
      "source": [
        "\n",
        "import time"
      ],
      "metadata": {
        "trusted": true,
        "execution": {
          "iopub.status.busy": "2024-11-13T21:06:30.386133Z",
          "iopub.execute_input": "2024-11-13T21:06:30.386535Z",
          "iopub.status.idle": "2024-11-13T21:06:30.390791Z",
          "shell.execute_reply.started": "2024-11-13T21:06:30.386498Z",
          "shell.execute_reply": "2024-11-13T21:06:30.389859Z"
        },
        "id": "N1OLEHbWXMBu"
      },
      "outputs": [],
      "execution_count": 2
    },
    {
      "cell_type": "code",
      "source": [
        "!pip install faiss-gpu"
      ],
      "metadata": {
        "trusted": true,
        "execution": {
          "iopub.status.busy": "2024-11-13T20:53:27.206167Z",
          "iopub.execute_input": "2024-11-13T20:53:27.206518Z",
          "iopub.status.idle": "2024-11-13T20:53:38.573733Z",
          "shell.execute_reply.started": "2024-11-13T20:53:27.206483Z",
          "shell.execute_reply": "2024-11-13T20:53:38.572598Z"
        },
        "id": "v5s-BjB3XMBv",
        "outputId": "4d2cbdd3-b323-481e-c803-c725769af997",
        "colab": {
          "base_uri": "https://localhost:8080/"
        }
      },
      "outputs": [
        {
          "output_type": "stream",
          "name": "stdout",
          "text": [
            "Collecting faiss-gpu\n",
            "  Downloading faiss_gpu-1.7.2-cp310-cp310-manylinux_2_17_x86_64.manylinux2014_x86_64.whl.metadata (1.4 kB)\n",
            "Downloading faiss_gpu-1.7.2-cp310-cp310-manylinux_2_17_x86_64.manylinux2014_x86_64.whl (85.5 MB)\n",
            "\u001b[2K   \u001b[90m━━━━━━━━━━━━━━━━━━━━━━━━━━━━━━━━━━━━━━━━\u001b[0m \u001b[32m85.5/85.5 MB\u001b[0m \u001b[31m8.8 MB/s\u001b[0m eta \u001b[36m0:00:00\u001b[0m\n",
            "\u001b[?25hInstalling collected packages: faiss-gpu\n",
            "Successfully installed faiss-gpu-1.7.2\n"
          ]
        }
      ],
      "execution_count": 3
    },
    {
      "cell_type": "code",
      "source": [
        "import faiss\n",
        "\n",
        "res = faiss.StandardGpuResources()"
      ],
      "metadata": {
        "trusted": true,
        "execution": {
          "iopub.status.busy": "2024-11-13T20:54:24.587855Z",
          "iopub.execute_input": "2024-11-13T20:54:24.588222Z",
          "iopub.status.idle": "2024-11-13T20:54:24.592893Z",
          "shell.execute_reply.started": "2024-11-13T20:54:24.588187Z",
          "shell.execute_reply": "2024-11-13T20:54:24.591988Z"
        },
        "id": "Div3XmuXXMBw"
      },
      "outputs": [],
      "execution_count": 4
    },
    {
      "cell_type": "code",
      "source": [
        "import tarfile\n",
        "\n",
        "tar = tarfile.open('sift.tar.gz', \"r:gz\")\n",
        "tar.extractall()"
      ],
      "metadata": {
        "trusted": true,
        "execution": {
          "iopub.status.busy": "2024-11-13T20:55:57.069449Z",
          "iopub.execute_input": "2024-11-13T20:55:57.069754Z",
          "iopub.status.idle": "2024-11-13T20:56:01.00864Z",
          "shell.execute_reply.started": "2024-11-13T20:55:57.069722Z",
          "shell.execute_reply": "2024-11-13T20:56:01.007869Z"
        },
        "id": "kujKCsEOXMBx"
      },
      "outputs": [],
      "execution_count": 5
    },
    {
      "cell_type": "code",
      "source": [
        "import numpy as np\n",
        "\n",
        "def read_fvecs(fp):\n",
        "    a = np.fromfile(fp, dtype='int32')\n",
        "    d = a[0]\n",
        "    return a.reshape(-1, d + 1)[:, 1:].copy().view('float32')"
      ],
      "metadata": {
        "trusted": true,
        "execution": {
          "iopub.status.busy": "2024-11-13T20:56:01.009783Z",
          "iopub.execute_input": "2024-11-13T20:56:01.010094Z",
          "iopub.status.idle": "2024-11-13T20:56:01.015458Z",
          "shell.execute_reply.started": "2024-11-13T20:56:01.010061Z",
          "shell.execute_reply": "2024-11-13T20:56:01.014399Z"
        },
        "id": "TUBtKvKxXMBx"
      },
      "outputs": [],
      "execution_count": 6
    },
    {
      "cell_type": "code",
      "source": [
        "xb = read_fvecs('/content/sift/sift_base.fvecs')\n",
        "xq = read_fvecs('/content/sift/sift_query.fvecs')\n",
        "xq = xq[0].reshape(1, xq.shape[1])"
      ],
      "metadata": {
        "trusted": true,
        "execution": {
          "iopub.status.busy": "2024-11-13T20:56:01.018082Z",
          "iopub.execute_input": "2024-11-13T20:56:01.018455Z",
          "iopub.status.idle": "2024-11-13T20:56:01.356735Z",
          "shell.execute_reply.started": "2024-11-13T20:56:01.018414Z",
          "shell.execute_reply": "2024-11-13T20:56:01.355719Z"
        },
        "id": "JeDgSoOkXMBy"
      },
      "outputs": [],
      "execution_count": 8
    },
    {
      "cell_type": "code",
      "source": [
        "xb.shape"
      ],
      "metadata": {
        "trusted": true,
        "execution": {
          "iopub.status.busy": "2024-11-13T20:56:01.358188Z",
          "iopub.execute_input": "2024-11-13T20:56:01.358593Z",
          "iopub.status.idle": "2024-11-13T20:56:01.365811Z",
          "shell.execute_reply.started": "2024-11-13T20:56:01.358548Z",
          "shell.execute_reply": "2024-11-13T20:56:01.364956Z"
        },
        "id": "d7_hbuthXMBz",
        "outputId": "d180525d-b626-4678-b5a3-02c8f6b8cf98",
        "colab": {
          "base_uri": "https://localhost:8080/"
        }
      },
      "outputs": [
        {
          "output_type": "execute_result",
          "data": {
            "text/plain": [
              "(1000000, 128)"
            ]
          },
          "metadata": {},
          "execution_count": 9
        }
      ],
      "execution_count": 9
    },
    {
      "cell_type": "code",
      "source": [
        "xq.shape"
      ],
      "metadata": {
        "trusted": true,
        "execution": {
          "iopub.status.busy": "2024-11-13T20:56:07.891757Z",
          "iopub.execute_input": "2024-11-13T20:56:07.892142Z",
          "iopub.status.idle": "2024-11-13T20:56:07.898303Z",
          "shell.execute_reply.started": "2024-11-13T20:56:07.892106Z",
          "shell.execute_reply": "2024-11-13T20:56:07.897337Z"
        },
        "id": "h3biXIvmXMBz",
        "outputId": "e2639e62-4994-4a6c-fe5e-f081aff8914f",
        "colab": {
          "base_uri": "https://localhost:8080/"
        }
      },
      "outputs": [
        {
          "output_type": "execute_result",
          "data": {
            "text/plain": [
              "(1, 128)"
            ]
          },
          "metadata": {},
          "execution_count": 10
        }
      ],
      "execution_count": 10
    },
    {
      "cell_type": "code",
      "source": [
        "xq"
      ],
      "metadata": {
        "trusted": true,
        "execution": {
          "iopub.status.busy": "2024-11-13T20:56:08.467564Z",
          "iopub.execute_input": "2024-11-13T20:56:08.468427Z",
          "iopub.status.idle": "2024-11-13T20:56:08.475479Z",
          "shell.execute_reply.started": "2024-11-13T20:56:08.468385Z",
          "shell.execute_reply": "2024-11-13T20:56:08.474642Z"
        },
        "id": "IBJhOqtEXMB0",
        "outputId": "321d33d3-40c3-47b5-fb9c-76c01863f8f5",
        "colab": {
          "base_uri": "https://localhost:8080/"
        }
      },
      "outputs": [
        {
          "output_type": "execute_result",
          "data": {
            "text/plain": [
              "array([[  1.,   3.,  11., 110.,  62.,  22.,   4.,   0.,  43.,  21.,  22.,\n",
              "         18.,   6.,  28.,  64.,   9.,  11.,   1.,   0.,   0.,   1.,  40.,\n",
              "        101.,  21.,  20.,   2.,   4.,   2.,   2.,   9.,  18.,  35.,   1.,\n",
              "          1.,   7.,  25., 108., 116.,  63.,   2.,   0.,   0.,  11.,  74.,\n",
              "         40., 101., 116.,   3.,  33.,   1.,   1.,  11.,  14.,  18., 116.,\n",
              "        116.,  68.,  12.,   5.,   4.,   2.,   2.,   9., 102.,  17.,   3.,\n",
              "         10.,  18.,   8.,  15.,  67.,  63.,  15.,   0.,  14., 116.,  80.,\n",
              "          0.,   2.,  22.,  96.,  37.,  28.,  88.,  43.,   1.,   4.,  18.,\n",
              "        116.,  51.,   5.,  11.,  32.,  14.,   8.,  23.,  44.,  17.,  12.,\n",
              "          9.,   0.,   0.,  19.,  37.,  85.,  18.,  16., 104.,  22.,   6.,\n",
              "          2.,  26.,  12.,  58.,  67.,  82.,  25.,  12.,   2.,   2.,  25.,\n",
              "         18.,   8.,   2.,  19.,  42.,  48.,  11.]], dtype=float32)"
            ]
          },
          "metadata": {},
          "execution_count": 11
        }
      ],
      "execution_count": 11
    },
    {
      "cell_type": "code",
      "source": [
        "xb"
      ],
      "metadata": {
        "trusted": true,
        "execution": {
          "iopub.status.busy": "2024-11-13T20:56:09.651144Z",
          "iopub.execute_input": "2024-11-13T20:56:09.652004Z",
          "iopub.status.idle": "2024-11-13T20:56:09.658697Z",
          "shell.execute_reply.started": "2024-11-13T20:56:09.651961Z",
          "shell.execute_reply": "2024-11-13T20:56:09.657633Z"
        },
        "id": "317hClqxXMB1",
        "outputId": "f3ee5c28-9fb8-4391-d511-ade50b21aa8d",
        "colab": {
          "base_uri": "https://localhost:8080/"
        }
      },
      "outputs": [
        {
          "output_type": "execute_result",
          "data": {
            "text/plain": [
              "array([[  0.,  16.,  35., ...,  25.,  23.,   1.],\n",
              "       [ 14.,  35.,  19., ...,  11.,  21.,  33.],\n",
              "       [  0.,   1.,   5., ...,   4.,  23.,  10.],\n",
              "       ...,\n",
              "       [ 30.,  12.,  12., ...,  50.,  10.,   0.],\n",
              "       [  0.,   5.,  12., ...,   1.,   2.,  13.],\n",
              "       [114.,  31.,   0., ...,  25.,  16.,   0.]], dtype=float32)"
            ]
          },
          "metadata": {},
          "execution_count": 12
        }
      ],
      "execution_count": 12
    },
    {
      "cell_type": "code",
      "source": [
        "D=128"
      ],
      "metadata": {
        "trusted": true,
        "execution": {
          "iopub.status.busy": "2024-11-13T20:44:38.116131Z",
          "iopub.execute_input": "2024-11-13T20:44:38.116609Z",
          "iopub.status.idle": "2024-11-13T20:44:38.122348Z",
          "shell.execute_reply.started": "2024-11-13T20:44:38.116562Z",
          "shell.execute_reply": "2024-11-13T20:44:38.121148Z"
        },
        "id": "b-HzFnFCXMB1"
      },
      "outputs": [],
      "execution_count": 13
    },
    {
      "cell_type": "code",
      "source": [
        "M=16"
      ],
      "metadata": {
        "trusted": true,
        "execution": {
          "iopub.status.busy": "2024-11-13T20:44:53.102461Z",
          "iopub.execute_input": "2024-11-13T20:44:53.102958Z",
          "iopub.status.idle": "2024-11-13T20:44:53.1113Z",
          "shell.execute_reply.started": "2024-11-13T20:44:53.10291Z",
          "shell.execute_reply": "2024-11-13T20:44:53.109824Z"
        },
        "id": "hrD2MWAgXMB1"
      },
      "outputs": [],
      "execution_count": 14
    },
    {
      "cell_type": "code",
      "source": [
        "ef_search=8\n",
        "ef_construction=64"
      ],
      "metadata": {
        "trusted": true,
        "execution": {
          "iopub.status.busy": "2024-11-13T20:45:46.401621Z",
          "iopub.execute_input": "2024-11-13T20:45:46.402063Z",
          "iopub.status.idle": "2024-11-13T20:45:46.408371Z",
          "shell.execute_reply.started": "2024-11-13T20:45:46.402019Z",
          "shell.execute_reply": "2024-11-13T20:45:46.406398Z"
        },
        "id": "-4Oj9T2jXMB1"
      },
      "outputs": [],
      "execution_count": 15
    },
    {
      "cell_type": "code",
      "source": [
        "\n",
        "d = xb.shape[1]\n",
        "cpu_index = faiss.IndexFlatL2(d)\n",
        "gpu_index = faiss.index_cpu_to_gpu(res, 0, cpu_index)\n",
        "gpu_index.add(xb)\n",
        "\n",
        "k = 10\n",
        "start_time = time.time()\n",
        "distances, indices = gpu_index.search(xq, k)\n",
        "\n",
        "end_time = time.time()\n",
        "print(\"Indices of nearest neighbors:\", indices)\n",
        "print(\"Distances of nearest neighbors:\", distances)"
      ],
      "metadata": {
        "trusted": true,
        "execution": {
          "iopub.status.busy": "2024-11-13T21:07:02.122815Z",
          "iopub.execute_input": "2024-11-13T21:07:02.123214Z",
          "iopub.status.idle": "2024-11-13T21:07:02.261037Z",
          "shell.execute_reply.started": "2024-11-13T21:07:02.123177Z",
          "shell.execute_reply": "2024-11-13T21:07:02.260067Z"
        },
        "id": "_xDitYUvXMB2",
        "outputId": "01a8012d-12d9-4122-aa92-96001fc6e2bd",
        "colab": {
          "base_uri": "https://localhost:8080/"
        }
      },
      "outputs": [
        {
          "output_type": "stream",
          "name": "stdout",
          "text": [
            "Indices of nearest neighbors: [[932085 934876 561813 708177 706771 695756 435345 701258 455537 872728]]\n",
            "Distances of nearest neighbors: [[54229. 55091. 59531. 65260. 65697. 67010. 68247. 69844. 71441. 71861.]]\n"
          ]
        }
      ],
      "execution_count": 16
    },
    {
      "cell_type": "code",
      "source": [
        "\n",
        "print(f\"Time taken for retrieval: {end_time - start_time:.4f} seconds\")"
      ],
      "metadata": {
        "trusted": true,
        "execution": {
          "iopub.status.busy": "2024-11-13T21:07:41.534496Z",
          "iopub.execute_input": "2024-11-13T21:07:41.535276Z",
          "iopub.status.idle": "2024-11-13T21:07:41.539615Z",
          "shell.execute_reply.started": "2024-11-13T21:07:41.535238Z",
          "shell.execute_reply": "2024-11-13T21:07:41.538754Z"
        },
        "id": "gbxlpMxHXMB2",
        "outputId": "7d402edd-b5f9-463d-ce2f-d12654d22b87",
        "colab": {
          "base_uri": "https://localhost:8080/"
        }
      },
      "outputs": [
        {
          "output_type": "stream",
          "name": "stdout",
          "text": [
            "Time taken for retrieval: 0.0132 seconds\n"
          ]
        }
      ],
      "execution_count": 17
    },
    {
      "cell_type": "code",
      "source": [],
      "metadata": {
        "trusted": true,
        "id": "FRTWlK4_XMB2"
      },
      "outputs": [],
      "execution_count": null
    }
  ]
}