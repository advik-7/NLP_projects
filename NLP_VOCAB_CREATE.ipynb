{
  "nbformat": 4,
  "nbformat_minor": 0,
  "metadata": {
    "colab": {
      "provenance": [],
      "authorship_tag": "ABX9TyMlq1FC1XCaWuzYkYnNhNpn",
      "include_colab_link": true
    },
    "kernelspec": {
      "name": "python3",
      "display_name": "Python 3"
    },
    "language_info": {
      "name": "python"
    }
  },
  "cells": [
    {
      "cell_type": "markdown",
      "metadata": {
        "id": "view-in-github",
        "colab_type": "text"
      },
      "source": [
        "<a href=\"https://colab.research.google.com/github/advik-7/NLP_projects/blob/main/NLP_VOCAB_CREATE.ipynb\" target=\"_parent\"><img src=\"https://colab.research.google.com/assets/colab-badge.svg\" alt=\"Open In Colab\"/></a>"
      ]
    },
    {
      "cell_type": "code",
      "source": [
        "%%writefile 1.txt\n",
        "this is a text file"
      ],
      "metadata": {
        "colab": {
          "base_uri": "https://localhost:8080/"
        },
        "id": "dra7yLrQjDXW",
        "outputId": "db22a34e-4723-42d5-d8e3-0b7191a9eb08"
      },
      "execution_count": 1,
      "outputs": [
        {
          "output_type": "stream",
          "name": "stdout",
          "text": [
            "Writing 1.txt\n"
          ]
        }
      ]
    },
    {
      "cell_type": "code",
      "execution_count": 7,
      "metadata": {
        "colab": {
          "base_uri": "https://localhost:8080/"
        },
        "id": "8Nepvrn8hqvy",
        "outputId": "33b77724-5623-41b5-e7f0-9511cfa72a7e"
      },
      "outputs": [
        {
          "output_type": "stream",
          "name": "stdout",
          "text": [
            "{'this': 1, 'is': 2, 'a': 3, 'text': 4, 'file': 5}\n"
          ]
        }
      ],
      "source": [
        "#building a vocabulary manually\n",
        "i=1\n",
        "vocabulary ={}\n",
        "with open('1.txt') as f :\n",
        "  x= f.read().lower().split()\n",
        "for word in x:\n",
        "  if word in vocabulary:\n",
        "    continue\n",
        "  else:\n",
        "    vocabulary[word]=i\n",
        "    i=i+1\n",
        "print(vocabulary)"
      ]
    },
    {
      "cell_type": "code",
      "source": [
        "%%writefile 2.txt\n",
        "this is a second text file i dont know hehe"
      ],
      "metadata": {
        "colab": {
          "base_uri": "https://localhost:8080/"
        },
        "id": "ghPNv_xJlBFX",
        "outputId": "b9a8a179-e9d6-4243-ac1e-891bb31f50f7"
      },
      "execution_count": 9,
      "outputs": [
        {
          "output_type": "stream",
          "name": "stdout",
          "text": [
            "Writing 2.txt\n"
          ]
        }
      ]
    },
    {
      "cell_type": "code",
      "source": [
        "with open('2.txt') as f :\n",
        "  x= f.read().lower().split()\n",
        "for word in x:\n",
        "  if word in vocabulary:\n",
        "    continue\n",
        "  else:\n",
        "    vocabulary[word]=i\n",
        "    i=i+1\n",
        "print(vocabulary)"
      ],
      "metadata": {
        "colab": {
          "base_uri": "https://localhost:8080/"
        },
        "id": "lxkB3MR1k8Dh",
        "outputId": "e26390b3-db55-4c59-f6cb-f4ced27bafea"
      },
      "execution_count": 10,
      "outputs": [
        {
          "output_type": "stream",
          "name": "stdout",
          "text": [
            "{'this': 1, 'is': 2, 'a': 3, 'text': 4, 'file': 5, 'second': 6, 'i': 7, 'dont': 8, 'know': 9, 'hehe': 10}\n"
          ]
        }
      ]
    },
    {
      "cell_type": "code",
      "source": [
        "one = ['1.txt']+[0]*len(vocabulary)\n",
        "with open('1.txt') as f:\n",
        "  x=f.read().lower().split()\n",
        "for word in x:\n",
        "  one[vocabulary[word]]+=1\n",
        "print(one)"
      ],
      "metadata": {
        "colab": {
          "base_uri": "https://localhost:8080/"
        },
        "id": "8MWaDNnSkOos",
        "outputId": "667c109c-5bf1-4bf3-9a2f-7ea6887f4d68"
      },
      "execution_count": 11,
      "outputs": [
        {
          "output_type": "stream",
          "name": "stdout",
          "text": [
            "['1.txt', 1, 1, 1, 1, 1, 0, 0, 0, 0, 0]\n"
          ]
        }
      ]
    },
    {
      "cell_type": "code",
      "source": [
        "two = ['2.txt']+[0]*len(vocabulary)\n",
        "with open('2.txt') as f:\n",
        "  x=f.read().lower().split()\n",
        "for word in x:\n",
        "  two[vocabulary[word]]+=1\n",
        "print(two)"
      ],
      "metadata": {
        "id": "bbGCHa2ulN-k"
      },
      "execution_count": null,
      "outputs": []
    }
  ]
}