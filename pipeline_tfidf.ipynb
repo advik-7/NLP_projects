{
  "nbformat": 4,
  "nbformat_minor": 0,
  "metadata": {
    "colab": {
      "provenance": [],
      "authorship_tag": "ABX9TyOoCLGZWWL4U2osC5uppxYC",
      "include_colab_link": true
    },
    "kernelspec": {
      "name": "python3",
      "display_name": "Python 3"
    },
    "language_info": {
      "name": "python"
    }
  },
  "cells": [
    {
      "cell_type": "markdown",
      "metadata": {
        "id": "view-in-github",
        "colab_type": "text"
      },
      "source": [
        "<a href=\"https://colab.research.google.com/github/advik-7/NLP_projects/blob/main/pipeline_tfidf.ipynb\" target=\"_parent\"><img src=\"https://colab.research.google.com/assets/colab-badge.svg\" alt=\"Open In Colab\"/></a>"
      ]
    },
    {
      "cell_type": "code",
      "execution_count": 1,
      "metadata": {
        "id": "bNRwV11UmsgS"
      },
      "outputs": [],
      "source": [
        "import numpy as np\n",
        "import pandas as pd"
      ]
    },
    {
      "cell_type": "code",
      "source": [
        "import pandas as pd\n",
        "\n",
        "# Define a function to preprocess each line\n",
        "def preprocess_line(line):\n",
        "    # Split the line at the first tab character\n",
        "    parts = line.split('\\t', 1)\n",
        "    # Check if the split was successful and return a tuple of the two parts\n",
        "    return parts if len(parts) == 2 else [line, '']\n",
        "\n",
        "# Read the file and preprocess each line\n",
        "with open('/content/SMSSpamCollection.txt', 'r') as file:\n",
        "    lines = file.readlines()\n",
        "    processed_lines = [preprocess_line(line.strip()) for line in lines]\n",
        "\n",
        "# Convert the processed lines to a DataFrame\n",
        "df = pd.DataFrame(processed_lines, columns=['Label', 'Message'])\n",
        "\n",
        "print(df.head())\n"
      ],
      "metadata": {
        "colab": {
          "base_uri": "https://localhost:8080/"
        },
        "id": "B2_r_Jw_m7t0",
        "outputId": "a479a132-9f22-44f8-d621-2c98a4e90457"
      },
      "execution_count": 15,
      "outputs": [
        {
          "output_type": "stream",
          "name": "stdout",
          "text": [
            "  Label                                            Message\n",
            "0   ham  Go until jurong point, crazy.. Available only ...\n",
            "1   ham                      Ok lar... Joking wif u oni...\n",
            "2  spam  Free entry in 2 a wkly comp to win FA Cup fina...\n",
            "3   ham  U dun say so early hor... U c already then say...\n",
            "4   ham  Nah I don't think he goes to usf, he lives aro...\n"
          ]
        }
      ]
    },
    {
      "cell_type": "code",
      "source": [
        "from sklearn.model_selection import train_test_split"
      ],
      "metadata": {
        "id": "pPurcYR4sGhM"
      },
      "execution_count": 20,
      "outputs": []
    },
    {
      "cell_type": "code",
      "source": [
        "X=df['Message']\n",
        "Y=df[\"Label\"]"
      ],
      "metadata": {
        "id": "iK_4vJhXsL95"
      },
      "execution_count": 22,
      "outputs": []
    },
    {
      "cell_type": "code",
      "source": [
        "X_train,X_test,Y_train,Y_test=train_test_split(X,Y,test_size=0.2,random_state=32)"
      ],
      "metadata": {
        "id": "1awHBlqAseMu"
      },
      "execution_count": 24,
      "outputs": []
    },
    {
      "cell_type": "code",
      "source": [
        "from sklearn.feature_extraction.text import TfidfVectorizer"
      ],
      "metadata": {
        "id": "pdS7-t1IyPOn"
      },
      "execution_count": 38,
      "outputs": []
    },
    {
      "cell_type": "code",
      "source": [
        "from sklearn.pipeline import Pipeline"
      ],
      "metadata": {
        "id": "pFvd8Y5oxzZD"
      },
      "execution_count": 37,
      "outputs": []
    },
    {
      "cell_type": "code",
      "source": [
        "from sklearn.svm import LinearSVC"
      ],
      "metadata": {
        "id": "sW9BWP_z0h6a"
      },
      "execution_count": 40,
      "outputs": []
    },
    {
      "cell_type": "code",
      "source": [
        "clf=LinearSVC()"
      ],
      "metadata": {
        "id": "VZ_6OsaY0ypv"
      },
      "execution_count": 41,
      "outputs": []
    },
    {
      "cell_type": "code",
      "source": [
        "txt_clsf= Pipeline([('tfidf',TfidfVectorizer),('svc',clf)])"
      ],
      "metadata": {
        "id": "6zRdiNphx8Os"
      },
      "execution_count": 43,
      "outputs": []
    },
    {
      "cell_type": "code",
      "source": [
        "txt_clsf.fit(X_train,Y_train)"
      ],
      "metadata": {
        "id": "R3ea-4md0_NI"
      },
      "execution_count": null,
      "outputs": []
    }
  ]
}